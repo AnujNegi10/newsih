{
 "cells": [
  {
   "cell_type": "code",
   "execution_count": 5,
   "id": "e55478b7",
   "metadata": {},
   "outputs": [
    {
     "name": "stderr",
     "output_type": "stream",
     "text": [
      "[nltk_data] Downloading package stopwords to\n",
      "[nltk_data]     C:\\Users\\negia\\AppData\\Roaming\\nltk_data...\n",
      "[nltk_data]   Package stopwords is already up-to-date!\n",
      "[nltk_data] Downloading package wordnet to\n",
      "[nltk_data]     C:\\Users\\negia\\AppData\\Roaming\\nltk_data...\n",
      "[nltk_data]   Package wordnet is already up-to-date!\n"
     ]
    },
    {
     "name": "stdout",
     "output_type": "stream",
     "text": [
      "0    4342\n",
      "1    3271\n",
      "Name: target, dtype: int64\n",
      "Class weights: {0: 0.8766697374481806, 1: 1.1637114032405993}\n",
      "Epoch 1/20\n"
     ]
    },
    {
     "name": "stderr",
     "output_type": "stream",
     "text": [
      "C:\\Users\\negia\\anaconda3\\Lib\\site-packages\\keras\\src\\layers\\core\\embedding.py:90: UserWarning: Argument `input_length` is deprecated. Just remove it.\n",
      "  warnings.warn(\n"
     ]
    },
    {
     "name": "stdout",
     "output_type": "stream",
     "text": [
      "\u001b[1m153/153\u001b[0m \u001b[32m━━━━━━━━━━━━━━━━━━━━\u001b[0m\u001b[37m\u001b[0m \u001b[1m6s\u001b[0m 22ms/step - accuracy: 0.6064 - loss: 0.7790 - val_accuracy: 0.7677 - val_loss: 0.5151\n",
      "Epoch 2/20\n",
      "\u001b[1m153/153\u001b[0m \u001b[32m━━━━━━━━━━━━━━━━━━━━\u001b[0m\u001b[37m\u001b[0m \u001b[1m3s\u001b[0m 20ms/step - accuracy: 0.8625 - loss: 0.3558 - val_accuracy: 0.7841 - val_loss: 0.4913\n",
      "Epoch 3/20\n",
      "\u001b[1m153/153\u001b[0m \u001b[32m━━━━━━━━━━━━━━━━━━━━\u001b[0m\u001b[37m\u001b[0m \u001b[1m3s\u001b[0m 19ms/step - accuracy: 0.9393 - loss: 0.1581 - val_accuracy: 0.7488 - val_loss: 0.6530\n",
      "Epoch 4/20\n",
      "\u001b[1m153/153\u001b[0m \u001b[32m━━━━━━━━━━━━━━━━━━━━\u001b[0m\u001b[37m\u001b[0m \u001b[1m3s\u001b[0m 20ms/step - accuracy: 0.9758 - loss: 0.0742 - val_accuracy: 0.7586 - val_loss: 0.6411\n",
      "Epoch 5/20\n",
      "\u001b[1m153/153\u001b[0m \u001b[32m━━━━━━━━━━━━━━━━━━━━\u001b[0m\u001b[37m\u001b[0m \u001b[1m3s\u001b[0m 19ms/step - accuracy: 0.9910 - loss: 0.0338 - val_accuracy: 0.7430 - val_loss: 0.7602\n",
      "Epoch 6/20\n",
      "\u001b[1m153/153\u001b[0m \u001b[32m━━━━━━━━━━━━━━━━━━━━\u001b[0m\u001b[37m\u001b[0m \u001b[1m3s\u001b[0m 20ms/step - accuracy: 0.9929 - loss: 0.0252 - val_accuracy: 0.7258 - val_loss: 0.8056\n",
      "Epoch 7/20\n",
      "\u001b[1m153/153\u001b[0m \u001b[32m━━━━━━━━━━━━━━━━━━━━\u001b[0m\u001b[37m\u001b[0m \u001b[1m3s\u001b[0m 19ms/step - accuracy: 0.9943 - loss: 0.0175 - val_accuracy: 0.7422 - val_loss: 0.9028\n"
     ]
    },
    {
     "name": "stderr",
     "output_type": "stream",
     "text": [
      "WARNING:absl:You are saving your model as an HDF5 file via `model.save()` or `keras.saving.save_model(model)`. This file format is considered legacy. We recommend using instead the native Keras format, e.g. `model.save('my_model.keras')` or `keras.saving.save_model(model, 'my_model.keras')`. \n"
     ]
    },
    {
     "name": "stdout",
     "output_type": "stream",
     "text": [
      "\u001b[1m1/1\u001b[0m \u001b[32m━━━━━━━━━━━━━━━━━━━━\u001b[0m\u001b[37m\u001b[0m \u001b[1m0s\u001b[0m 182ms/step\n",
      "Result: DisasterRelated\n",
      "Score: 0.7737054824829102\n"
     ]
    }
   ],
   "source": [
    "import numpy as np\n",
    "import pandas as pd\n",
    "from sklearn.model_selection import train_test_split\n",
    "from sklearn.utils.class_weight import compute_class_weight\n",
    "from tensorflow.keras.models import Sequential\n",
    "from tensorflow.keras.layers import Embedding, SimpleRNN, Dense\n",
    "from tensorflow.keras.preprocessing.text import Tokenizer\n",
    "from tensorflow.keras.utils import pad_sequences\n",
    "from tensorflow.keras.callbacks import EarlyStopping\n",
    "import nltk\n",
    "import re\n",
    "\n",
    "# Ensure necessary NLTK resources are downloaded\n",
    "nltk.download('stopwords')\n",
    "nltk.download('wordnet')\n",
    "\n",
    "# Preprocessing function\n",
    "def preprocess_text(text):\n",
    "    lemma = nltk.WordNetLemmatizer()\n",
    "    text = re.sub('[^a-zA-Z]', ' ', text).lower()\n",
    "    text = ' '.join([lemma.lemmatize(word) for word in text.split() if word not in nltk.corpus.stopwords.words('english')])\n",
    "    return text\n",
    "\n",
    "# Load dataset\n",
    "df = pd.read_csv('trainDisaster.csv')\n",
    "\n",
    "# Fill missing values\n",
    "df['text'] = df['text'].apply(preprocess_text)\n",
    "df['keyword'] = df['keyword'].fillna('unknown')\n",
    "df['location'] = df['location'].fillna('unknown')\n",
    "\n",
    "# Check target distribution\n",
    "print(df['target'].value_counts())\n",
    "\n",
    "# Convert target to integers\n",
    "df['target'] = df['target'].astype(int)\n",
    "\n",
    "# Prepare tokenizer and word sequences\n",
    "tokenizer = Tokenizer()\n",
    "tokenizer.fit_on_texts(df['text'])\n",
    "word_index = tokenizer.word_index\n",
    "\n",
    "# Prepare input data (X) and target data (y)\n",
    "X = tokenizer.texts_to_sequences(df['text'])\n",
    "y = df['target']\n",
    "\n",
    "# Compute class weights\n",
    "class_weights = compute_class_weight('balanced', classes=np.unique(y), y=y)\n",
    "class_weights = dict(enumerate(class_weights))\n",
    "print(\"Class weights:\", class_weights)\n",
    "\n",
    "# Pad sequences\n",
    "max_len = 30\n",
    "X = pad_sequences(X, maxlen=max_len)\n",
    "\n",
    "# Split dataset into training and testing sets\n",
    "X_train, X_test, y_train, y_test = train_test_split(X, y, test_size=0.2, random_state=42)\n",
    "\n",
    "# Build the RNN model\n",
    "model = Sequential()\n",
    "model.add(Embedding(input_dim=len(word_index)+1, output_dim=100, input_length=max_len))\n",
    "model.add(SimpleRNN(145, activation='relu'))\n",
    "model.add(Dense(1, activation='sigmoid'))\n",
    "model.compile(optimizer='adam', loss='binary_crossentropy', metrics=['accuracy'])\n",
    "\n",
    "# Early stopping callback\n",
    "earlystopping = EarlyStopping(monitor='val_loss', patience=5, restore_best_weights=True)\n",
    "\n",
    "# Train the model\n",
    "model.fit(X_train, y_train, epochs=20, batch_size=32, validation_split=0.2,  callbacks=[earlystopping])\n",
    "\n",
    "# Save the trained model\n",
    "model.save('disaster_rnn_model.h5')\n",
    "\n",
    "# Function to predict new news\n",
    "def preprocess_input(news):\n",
    "    words = news.lower().split()\n",
    "    encoded_review = [word_index.get(word, 2) for word in words]  # Using '2' for out-of-vocabulary words\n",
    "    padded_review = pad_sequences([encoded_review], maxlen=max_len)\n",
    "    return padded_review\n",
    "\n",
    "def predict_news(news):\n",
    "    preprocessed_text = preprocess_input(news)\n",
    "    prediction = model.predict(preprocessed_text)\n",
    "    sentiment = 'DisasterRelated' if prediction[0][0] > 0.5 else 'Not Related'\n",
    "    return sentiment, prediction[0][0]\n",
    "\n",
    "# Example usage\n",
    "news = \"earthquake shakes the city, people are trapped\"\n",
    "result, score = predict_news(news)\n",
    "print(f'Result: {result}')\n",
    "print(f'Score: {score}')\n"
   ]
  },
  {
   "cell_type": "code",
   "execution_count": 15,
   "id": "748d1456",
   "metadata": {},
   "outputs": [
    {
     "name": "stdout",
     "output_type": "stream",
     "text": [
      "\u001b[1m1/1\u001b[0m \u001b[32m━━━━━━━━━━━━━━━━━━━━\u001b[0m\u001b[37m\u001b[0m \u001b[1m0s\u001b[0m 38ms/step\n",
      "Result: DisasterRelated\n",
      "Score: 0.9846987128257751\n"
     ]
    }
   ],
   "source": [
    "news = \"In 2022, flooding and landslides in the northeastern state of Assam killed at least 192 people|\"\n",
    "result, score = predict_news(news)\n",
    "print(f'Result: {result}')\n",
    "print(f'Score: {score}')"
   ]
  },
  {
   "cell_type": "code",
   "execution_count": 18,
   "id": "8677935c",
   "metadata": {},
   "outputs": [
    {
     "name": "stdout",
     "output_type": "stream",
     "text": [
      "Collecting redis\n",
      "  Downloading redis-5.2.0-py3-none-any.whl.metadata (9.1 kB)\n",
      "Downloading redis-5.2.0-py3-none-any.whl (261 kB)\n",
      "   ---------------------------------------- 0.0/261.4 kB ? eta -:--:--\n",
      "   - -------------------------------------- 10.2/261.4 kB ? eta -:--:--\n",
      "   ---- ---------------------------------- 30.7/261.4 kB 445.2 kB/s eta 0:00:01\n",
      "   ------------------ --------------------- 122.9/261.4 kB 1.2 MB/s eta 0:00:01\n",
      "   ---------------------------------------  256.0/261.4 kB 2.0 MB/s eta 0:00:01\n",
      "   ---------------------------------------  256.0/261.4 kB 2.0 MB/s eta 0:00:01\n",
      "   ---------------------------------------- 261.4/261.4 kB 1.3 MB/s eta 0:00:00\n",
      "Installing collected packages: redis\n",
      "Successfully installed redis-5.2.0\n"
     ]
    }
   ],
   "source": [
    "!pip install redis"
   ]
  },
  {
   "cell_type": "code",
   "execution_count": 22,
   "id": "d9eb910e",
   "metadata": {},
   "outputs": [],
   "source": [
    "\n"
   ]
  },
  {
   "cell_type": "code",
   "execution_count": null,
   "id": "f6575206",
   "metadata": {},
   "outputs": [],
   "source": []
  },
  {
   "cell_type": "code",
   "execution_count": null,
   "id": "6bb1611a",
   "metadata": {},
   "outputs": [],
   "source": []
  },
  {
   "cell_type": "code",
   "execution_count": null,
   "id": "056a3ac6",
   "metadata": {},
   "outputs": [],
   "source": []
  }
 ],
 "metadata": {
  "kernelspec": {
   "display_name": "Python 3 (ipykernel)",
   "language": "python",
   "name": "python3"
  },
  "language_info": {
   "codemirror_mode": {
    "name": "ipython",
    "version": 3
   },
   "file_extension": ".py",
   "mimetype": "text/x-python",
   "name": "python",
   "nbconvert_exporter": "python",
   "pygments_lexer": "ipython3",
   "version": "3.11.7"
  }
 },
 "nbformat": 4,
 "nbformat_minor": 5
}
